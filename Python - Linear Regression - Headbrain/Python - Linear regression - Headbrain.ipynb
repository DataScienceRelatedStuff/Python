{
 "cells": [
  {
   "cell_type": "markdown",
   "id": "a5555f7c",
   "metadata": {},
   "source": [
    "# Linear regression"
   ]
  },
  {
   "cell_type": "markdown",
   "id": "9db88183",
   "metadata": {},
   "source": [
    "Headbrain"
   ]
  },
  {
   "cell_type": "markdown",
   "id": "6da0268e",
   "metadata": {},
   "source": [
    "Source: https://github.com/RupeshMohan/Linear_Regression/blob/master/Linear%20Regression.ipynb"
   ]
  },
  {
   "cell_type": "code",
   "execution_count": 3,
   "id": "215d4e9f",
   "metadata": {},
   "outputs": [],
   "source": [
    "import numpy as np\n",
    "import pandas as pd\n",
    "import matplotlib.pyplot as plt\n",
    "%matplotlib inline"
   ]
  },
  {
   "cell_type": "code",
   "execution_count": 4,
   "id": "b3d885fb",
   "metadata": {},
   "outputs": [],
   "source": [
    "plt.rcParams['figure.figsize'] = (20.0, 10.0)"
   ]
  },
  {
   "cell_type": "code",
   "execution_count": 8,
   "id": "118175d9",
   "metadata": {},
   "outputs": [
    {
     "name": "stdout",
     "output_type": "stream",
     "text": [
      "(237, 4)\n"
     ]
    },
    {
     "data": {
      "text/html": [
       "<div>\n",
       "<style scoped>\n",
       "    .dataframe tbody tr th:only-of-type {\n",
       "        vertical-align: middle;\n",
       "    }\n",
       "\n",
       "    .dataframe tbody tr th {\n",
       "        vertical-align: top;\n",
       "    }\n",
       "\n",
       "    .dataframe thead th {\n",
       "        text-align: right;\n",
       "    }\n",
       "</style>\n",
       "<table border=\"1\" class=\"dataframe\">\n",
       "  <thead>\n",
       "    <tr style=\"text-align: right;\">\n",
       "      <th></th>\n",
       "      <th>Gender</th>\n",
       "      <th>Age Range</th>\n",
       "      <th>Head Size(cm^3)</th>\n",
       "      <th>Brain Weight(grams)</th>\n",
       "    </tr>\n",
       "  </thead>\n",
       "  <tbody>\n",
       "    <tr>\n",
       "      <th>0</th>\n",
       "      <td>1</td>\n",
       "      <td>1</td>\n",
       "      <td>4512</td>\n",
       "      <td>1530</td>\n",
       "    </tr>\n",
       "    <tr>\n",
       "      <th>1</th>\n",
       "      <td>1</td>\n",
       "      <td>1</td>\n",
       "      <td>3738</td>\n",
       "      <td>1297</td>\n",
       "    </tr>\n",
       "    <tr>\n",
       "      <th>2</th>\n",
       "      <td>1</td>\n",
       "      <td>1</td>\n",
       "      <td>4261</td>\n",
       "      <td>1335</td>\n",
       "    </tr>\n",
       "    <tr>\n",
       "      <th>3</th>\n",
       "      <td>1</td>\n",
       "      <td>1</td>\n",
       "      <td>3777</td>\n",
       "      <td>1282</td>\n",
       "    </tr>\n",
       "    <tr>\n",
       "      <th>4</th>\n",
       "      <td>1</td>\n",
       "      <td>1</td>\n",
       "      <td>4177</td>\n",
       "      <td>1590</td>\n",
       "    </tr>\n",
       "  </tbody>\n",
       "</table>\n",
       "</div>"
      ],
      "text/plain": [
       "   Gender  Age Range  Head Size(cm^3)  Brain Weight(grams)\n",
       "0       1          1             4512                 1530\n",
       "1       1          1             3738                 1297\n",
       "2       1          1             4261                 1335\n",
       "3       1          1             3777                 1282\n",
       "4       1          1             4177                 1590"
      ]
     },
     "execution_count": 8,
     "metadata": {},
     "output_type": "execute_result"
    }
   ],
   "source": [
    "brains_df = pd.read_csv('headbrain.csv')\n",
    "print(brains_df.shape)\n",
    "brains_df.head()"
   ]
  },
  {
   "cell_type": "code",
   "execution_count": 21,
   "id": "3fb8828b",
   "metadata": {},
   "outputs": [],
   "source": [
    "#Independent variable\n",
    "X=brains_df['Head Size(cm^3)'].values\n",
    "#Dependent variable\n",
    "Y = brains_df['Brain Weight(grams)'].values"
   ]
  },
  {
   "cell_type": "code",
   "execution_count": 22,
   "id": "17aa5d2b",
   "metadata": {},
   "outputs": [
    {
     "data": {
      "text/plain": [
       "array([[1.        , 0.79956971],\n",
       "       [0.79956971, 1.        ]])"
      ]
     },
     "execution_count": 22,
     "metadata": {},
     "output_type": "execute_result"
    }
   ],
   "source": [
    "np.corrcoef(X, Y)"
   ]
  },
  {
   "cell_type": "code",
   "execution_count": 23,
   "id": "420a4783",
   "metadata": {},
   "outputs": [
    {
     "name": "stdout",
     "output_type": "stream",
     "text": [
      "3633.9915611814345 1282.873417721519\n"
     ]
    }
   ],
   "source": [
    "#avr X & y\n",
    "mean_X = np.mean(X)\n",
    "mean_Y = np.mean(Y)\n",
    "print(mean_X, mean_Y)"
   ]
  },
  {
   "cell_type": "code",
   "execution_count": 24,
   "id": "f36ca327",
   "metadata": {},
   "outputs": [
    {
     "data": {
      "text/plain": [
       "237"
      ]
     },
     "execution_count": 24,
     "metadata": {},
     "output_type": "execute_result"
    }
   ],
   "source": [
    "#Number of records\n",
    "n = len(X)\n",
    "n"
   ]
  },
  {
   "cell_type": "code",
   "execution_count": 25,
   "id": "5b0cc4c1",
   "metadata": {},
   "outputs": [
    {
     "name": "stdout",
     "output_type": "stream",
     "text": [
      "0.26342933948939945 325.57342104944223\n"
     ]
    }
   ],
   "source": [
    "teller = 0\n",
    "noemer = 0\n",
    "\n",
    "#calculate coeeffienten a & c\n",
    "for i in range(n):\n",
    "    teller += (X[i] - mean_X) *  (Y[i] - mean_y)\n",
    "    noemer += (X[i] - mean_X) **2\n",
    "\n",
    "a = teller/noemer\n",
    "c = mean_Y - (a * mean_X)\n",
    "\n",
    "print(a, c)"
   ]
  },
  {
   "cell_type": "code",
   "execution_count": 30,
   "id": "a62df218",
   "metadata": {},
   "outputs": [
    {
     "data": {
      "image/png": "[encoded data removed]",
      "text/plain": [
       "<Figure size 1440x720 with 1 Axes>"
      ]
     },
     "metadata": {
      "needs_background": "light"
     },
     "output_type": "display_data"
    }
   ],
   "source": [
    "max_x= np.max(x) + 100\n",
    "min_x= np.min(x) - 100\n",
    "\n",
    "x = np.linspace(min_x, max_x, 1000)\n",
    "y = a*x + c\n",
    "\n",
    "plt.plot(x, y, color= 'r', label='regression')\n",
    "plt.scatter(X, Y, label='scatter')\n",
    "\n",
    "plt.xlabel('Head Size')\n",
    "plt.ylabel('Brain Weight')\n",
    "\n",
    "plt.legend()\n",
    "plt.show();\n"
   ]
  },
  {
   "cell_type": "code",
   "execution_count": 33,
   "id": "2cc6f97c",
   "metadata": {},
   "outputs": [
    {
     "name": "stdout",
     "output_type": "stream",
     "text": [
      "0.6315648136958643\n"
     ]
    }
   ],
   "source": [
    "#calculate r²\n",
    "t=0\n",
    "r=0\n",
    "\n",
    "for i in range(n):\n",
    "    y_predict = a * X[i] + c\n",
    "    t = (Y[i] - mean_Y)**2\n",
    "    r = (Y[i] - y_predict)**2\n",
    "\n",
    "r2 = 1 - (r/t)\n",
    "print(r2)"
   ]
  },
  {
   "cell_type": "code",
   "execution_count": 35,
   "id": "84801bd2",
   "metadata": {},
   "outputs": [
    {
     "name": "stdout",
     "output_type": "stream",
     "text": [
      "0.639311719957\n"
     ]
    }
   ],
   "source": [
    "#Machine learning using Sklearn\n",
    "\n",
    "from sklearn.linear_model import LinearRegression\n",
    "from sklearn.metrics import mean_squared_error\n",
    "\n",
    "#reshape matrix\n",
    "X = X.reshape(n,1)\n",
    "#create model\n",
    "reg = LinearRegression()\n",
    "#Use training data\n",
    "reg = reg.fit(X, Y)\n",
    "#Predict\n",
    "Y_predict = reg.predict(X)\n",
    "              \n",
    "#Calculate mean_squared_error and R²\n",
    "mse = mean_squared_error(Y, Y_predict)\n",
    "rmse = np.sqrt(mse)\n",
    "\n",
    "r2 = reg.score(X, Y)\n",
    "              \n",
    "print(r2)"
   ]
  },
  {
   "cell_type": "code",
   "execution_count": null,
   "id": "06b8c8e9",
   "metadata": {},
   "outputs": [],
   "source": []
  }
 ],
 "metadata": {
  "kernelspec": {
   "display_name": "Python 3 (ipykernel)",
   "language": "python",
   "name": "python3"
  },
  "language_info": {
   "codemirror_mode": {
    "name": "ipython",
    "version": 3
   },
   "file_extension": ".py",
   "mimetype": "text/x-python",
   "name": "python",
   "nbconvert_exporter": "python",
   "pygments_lexer": "ipython3",
   "version": "3.9.12"
  }
 },
 "nbformat": 4,
 "nbformat_minor": 5
}
