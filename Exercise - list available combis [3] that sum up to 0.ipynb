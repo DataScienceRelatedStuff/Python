{
 "cells": [
  {
   "cell_type": "markdown",
   "id": "838a3c64",
   "metadata": {},
   "source": [
    "# Exercise"
   ]
  },
  {
   "cell_type": "markdown",
   "id": "a64b47b2",
   "metadata": {},
   "source": [
    "List available combis [3] that sum up to 0"
   ]
  },
  {
   "cell_type": "markdown",
   "id": "06bebeec",
   "metadata": {},
   "source": [
    "via looping"
   ]
  },
  {
   "cell_type": "code",
   "execution_count": null,
   "id": "9013128c",
   "metadata": {},
   "outputs": [],
   "source": [
    "def three_sum(nums):\n",
    "    result = []\n",
    "    nums.sort()\n",
    "    print(nums)\n",
    "    i=0\n",
    "    while i < len(nums)-2:\n",
    "        #print(nums[i])\n",
    "        j = len(nums)-1\n",
    "        while j > i:\n",
    "            #print(nums[j])\n",
    "            k = j-1\n",
    "            while k > i:\n",
    "                #print(nums[k])\n",
    "                if nums[i] + nums[j] + nums[k] < 0 or nums[i] + nums[j] + nums[k] > 0:\n",
    "                    k -= 1\n",
    "                    continue\n",
    "                elif nums[i] == nums[j] or nums[j] == nums[k] or nums[i] == nums[k]:\n",
    "                    k -= 1\n",
    "                    continue\n",
    "                else:\n",
    "                    if (nums[i], nums[j], nums[k]) not in result:\n",
    "                        result.append((nums[i], nums[j], nums[k]))\n",
    "                        print(nums[i], nums[j], nums[k])\n",
    "                    k -= 1\n",
    "            j -= 1\n",
    "        i += 1\n",
    "    return result\n",
    "        \n",
    "x = [1, -6, 4, 2, -1, 2, 0, -2, 0 ]\n",
    "x = [-5, 2, 3, 1, 6, -7, 10, -13, 3, -20, 17]\n",
    "\n",
    "print(three_sum(x))\n"
   ]
  },
  {
   "cell_type": "markdown",
   "id": "2479f8c2",
   "metadata": {},
   "source": [
    "Via recursive function"
   ]
  },
  {
   "cell_type": "code",
   "execution_count": null,
   "id": "1eb7c0a4",
   "metadata": {},
   "outputs": [],
   "source": [
    "def sums(nums, i, result, expected, tmp_result):\n",
    "    \n",
    "    #Prepare data for first time use\n",
    "    #sort and only unique values\n",
    "    if tmp_result == [] and i == 0 and result == []:\n",
    "        nums = list(set(nums))\n",
    "        nums.sort()\n",
    "        print(nums)\n",
    "\n",
    "    #Add separate items to the 'intermediate'/'temporary' list ('tmp_result')\n",
    "    tmp_result.append(nums[i])\n",
    "    #print('tmp_result:', tmp_result)\n",
    "    \n",
    "    #If the temporary list contains the required number of items,\n",
    "    #add the combination from the temporary list to the final list ('result')\n",
    "    if tmp_result not in result and len(tmp_result) == expected and sum(tmp_result) == 0:\n",
    "        result.append(tmp_result[:])\n",
    "    \n",
    "    #Prepare to search for the next item in the 'nums'-list\n",
    "    i += 1\n",
    "    \n",
    "    #As long at the required number of items have not been reached in the temporary list ('tmp_result') ...\n",
    "    #and the last avaiable number in the temporary list ('tmp_result') does NOT equal the last number of the original list ('nums')\n",
    "    #repeat the steps to add the next number of the list to the temporary list: recursive function\n",
    "    if tmp_result[len(tmp_result)-1] < nums[len(nums)-1] and expected > len(tmp_result):\n",
    "        sums(nums, i, result, expected, tmp_result)\n",
    "\n",
    "    #When the last item added to the temporary list ('tmp_result') is smaller then the last item in the original list ('nums')\n",
    "    #or the value of the last item in temporary list ('tmp_result') equals the last item in the original list ('nums')\n",
    "    elif tmp_result[len(tmp_result)-1] < nums[len(nums)-1] or tmp_result[len(tmp_result)-1] == nums[len(nums)-1]:\n",
    "        #Calculate the number of items ('j') that needs to be removed from the temporary list ('tmp_result') before a new combination of items can be created. \n",
    "        j = 0       \n",
    "        while tmp_result[len(tmp_result) -1 -j] == nums[len(nums) -1 -j]:\n",
    "            j += 1\n",
    "        #As long as the number of items to be removed ('j') is smaller then the expected number (max) of items in the result\n",
    "        if j != expected:\n",
    "            #Reset the value of i to the next item to be added\n",
    "            i = nums.index(tmp_result[len(tmp_result) -1 -j]) +1\n",
    "            #Remove all the items in the temporary list ('tmp_result') in order to\n",
    "            del tmp_result[-1 -j:]\n",
    "            #Add the next possible combinations - recursive function\n",
    "            sums(nums, i, result, expected, tmp_result)\n",
    "\n",
    "    #Return the result\n",
    "    return result\n",
    "\n",
    "#x = [1, -6, 4, 2, -1, 2, 0, -2, 0 ]\n",
    "#x = [-5, 2, 3, 1, 6, -7, 10, -13, 3, -20, 17]\n",
    "#x = [-5, 10, -13, 3, 5, 0]\n",
    "#x = [-5, 2, 3, 1]\n",
    "\n",
    "#Define variables and parameters\n",
    "i = 0\n",
    "exp_numb = 3\n",
    "result = []\n",
    "tmp_result = []\n",
    "\n",
    "#Run the function\n",
    "print(sums((x), i, result, exp_numb, tmp_result))\n"
   ]
  }
 ],
 "metadata": {
  "kernelspec": {
   "display_name": "Python 3 (ipykernel)",
   "language": "python",
   "name": "python3"
  },
  "language_info": {
   "codemirror_mode": {
    "name": "ipython",
    "version": 3
   },
   "file_extension": ".py",
   "mimetype": "text/x-python",
   "name": "python",
   "nbconvert_exporter": "python",
   "pygments_lexer": "ipython3",
   "version": "3.9.12"
  }
 },
 "nbformat": 4,
 "nbformat_minor": 5
}
